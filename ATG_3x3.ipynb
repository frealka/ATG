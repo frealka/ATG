{
 "cells": [
  {
   "cell_type": "markdown",
   "metadata": {},
   "source": [
    "## Oznaczenia\n",
    "\n",
    "|  || $a$ | $b$ | $c$ |\n",
    "| --- | --- | --- | --- |\n",
    "|  || ($y_1$) | ($y_2$) | ($1-y_1-y_2$) |\n",
    "|$\\alpha$|($x_1$)| $c_1$ | $c_2$ | $c_3$ |\n",
    "|$\\beta$|($x_2$)| $c_4$ | $c_5$ | $c_6$ |\n",
    "|$\\gamma$|($1-x_1-x_2$)| $c_7$ | $c_8$ | $c_9$ |"
   ]
  },
  {
   "cell_type": "code",
   "execution_count": 8,
   "metadata": {},
   "outputs": [],
   "source": [
    "x1, x2, y1, y2 = var('x1'),var('x2'),var('y1'),var('y2')\n",
    "c1, c2, c3 = var('c1'), var('c2'), var('c3')\n",
    "c4, c5, c6 = var('c4'), var('c5'), var('c6')\n",
    "c7, c8, c9 = var('c7'), var('c8'), var('c9') "
   ]
  },
  {
   "cell_type": "code",
   "execution_count": 9,
   "metadata": {},
   "outputs": [],
   "source": [
    "c1, c2, c3 = 3, -3, 7\n",
    "c4, c5, c6 = -1, 4, 2\n",
    "c7, c8, c9 = 0, -4, 4"
   ]
  },
  {
   "cell_type": "code",
   "execution_count": 10,
   "metadata": {},
   "outputs": [],
   "source": [
    "u(x1, x2, y1, y2) = x1*(y1*c1 + y2*c2 + (1-y1-y2)*c3) + x2*(y1*c4 + y2*c5 + (1-y1-y2)*c6) + (1-x1-x2)*(y1*c7 + y2*c8 + (1-y1-y2)*c9)"
   ]
  },
  {
   "cell_type": "code",
   "execution_count": 11,
   "metadata": {},
   "outputs": [
    {
     "data": {
      "text/plain": [
       "(x2 - 4)*y1 - 2*(x1 - 5*x2 + 4)*y2 + 3*x1 - 2*x2 + 4"
      ]
     },
     "execution_count": 11,
     "metadata": {},
     "output_type": "execute_result"
    }
   ],
   "source": [
    "u.full_simplify()"
   ]
  },
  {
   "cell_type": "code",
   "execution_count": null,
   "metadata": {},
   "outputs": [],
   "source": []
  }
 ],
 "metadata": {
  "kernelspec": {
   "display_name": "SageMath 8.1",
   "language": "",
   "name": "sagemath"
  },
  "language_info": {
   "codemirror_mode": {
    "name": "ipython",
    "version": 2
   },
   "file_extension": ".py",
   "mimetype": "text/x-python",
   "name": "python",
   "nbconvert_exporter": "python",
   "pygments_lexer": "ipython2",
   "version": "2.7.17"
  }
 },
 "nbformat": 4,
 "nbformat_minor": 2
}
