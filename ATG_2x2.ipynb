{
 "cells": [
  {
   "cell_type": "markdown",
   "metadata": {},
   "source": [
    "## Oznaczenia\n",
    "\n",
    "|  || $a$ | $b$ |\n",
    "| --- | --- | --- |\n",
    "|  || ($y_1$) | ($1-y_1$) | \n",
    "|$\\alpha$|($x_1$)| $c_1$ | $c_2$ |\n",
    "|$\\beta$|($1-x_1$)| $c_3$ | $c_4$ |"
   ]
  },
  {
   "cell_type": "code",
   "execution_count": 8,
   "metadata": {},
   "outputs": [],
   "source": [
    "x1, y1 = var('x1'),var('y1')\n",
    "c1, c2 = var('c1'), var('c2')\n",
    "c3, c4 = var('c4'), var('c4')"
   ]
  },
  {
   "cell_type": "code",
   "execution_count": 1,
   "metadata": {},
   "outputs": [],
   "source": [
    "x1, y1 = var('x1'),var('y1')\n",
    "c1, c2 = 5,3\n",
    "c3, c4 = 2,6"
   ]
  },
  {
   "cell_type": "code",
   "execution_count": 10,
   "metadata": {},
   "outputs": [],
   "source": [
    "u(x1, y1) = x1*(c1*y1 + c2*(1-y2)) + (1-x1)*(c3*y1 + c2*(1-y2))"
   ]
  },
  {
   "cell_type": "code",
   "execution_count": 11,
   "metadata": {},
   "outputs": [
    {
     "data": {
      "text/plain": [
       "(x2 - 4)*y1 - 2*(x1 - 5*x2 + 4)*y2 + 3*x1 - 2*x2 + 4"
      ]
     },
     "execution_count": 11,
     "metadata": {},
     "output_type": "execute_result"
    }
   ],
   "source": [
    "u.full_simplify()"
   ]
  },
  {
   "cell_type": "code",
   "execution_count": null,
   "metadata": {},
   "outputs": [],
   "source": []
  }
 ],
 "metadata": {
  "kernelspec": {
   "display_name": "SageMath 8.1",
   "language": "",
   "name": "sagemath"
  },
  "language_info": {
   "codemirror_mode": {
    "name": "ipython",
    "version": 2
   },
   "file_extension": ".py",
   "mimetype": "text/x-python",
   "name": "python",
   "nbconvert_exporter": "python",
   "pygments_lexer": "ipython2",
   "version": "2.7.17"
  }
 },
 "nbformat": 4,
 "nbformat_minor": 2
}
